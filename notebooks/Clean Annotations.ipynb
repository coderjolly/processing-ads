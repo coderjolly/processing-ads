{
 "cells": [
  {
   "cell_type": "code",
   "execution_count": 4,
   "metadata": {},
   "outputs": [],
   "source": [
    "from collections import Counter\n",
    "\n",
    "import pandas as pd\n",
    "import numpy as np\n",
    "from tqdm import tqdm\n",
    "\n",
    "import json\n",
    "import os\n",
    "import itertools"
   ]
  },
  {
   "cell_type": "code",
   "execution_count": 5,
   "metadata": {},
   "outputs": [],
   "source": [
    "annotation_path = \"../data/raw/annotations_images/image\""
   ]
  },
  {
   "cell_type": "code",
   "execution_count": 6,
   "metadata": {},
   "outputs": [],
   "source": [
    "with open(os.path.join(annotation_path, \"Sentiments.json\"), 'r') as j:\n",
    "    annotation = json.loads(j.read())"
   ]
  },
  {
   "cell_type": "code",
   "execution_count": 7,
   "metadata": {},
   "outputs": [
    {
     "data": {
      "text/plain": [
       "[['1', '5', '8', '9', '10', '11', '14', '16', '20', '21', '23'],\n",
       " ['12'],\n",
       " ['21'],\n",
       " ['1', '6', '9', '11', '14', '16', '19', '23', '29'],\n",
       " ['14']]"
      ]
     },
     "execution_count": 7,
     "metadata": {},
     "output_type": "execute_result"
    }
   ],
   "source": [
    "annotation[\"0/49380.jpg\"]"
   ]
  },
  {
   "cell_type": "code",
   "execution_count": 43,
   "metadata": {},
   "outputs": [
    {
     "name": "stderr",
     "output_type": "stream",
     "text": [
      "100%|██████████| 30340/30340 [00:00<00:00, 332440.37it/s]\n"
     ]
    }
   ],
   "source": [
    "annotation_list = []\n",
    "for path, sentiments in tqdm(annotation.items()):\n",
    "    annotation_item = dict(Counter(itertools.chain(*sentiments)))\n",
    "    annotation_item['Path'] = path\n",
    "    annotation_list.append(annotation_item)\n"
   ]
  },
  {
   "cell_type": "code",
   "execution_count": 46,
   "metadata": {},
   "outputs": [],
   "source": [
    "annotation_df = pd.DataFrame(annotation_list).fillna(0)"
   ]
  },
  {
   "cell_type": "code",
   "execution_count": 54,
   "metadata": {},
   "outputs": [],
   "source": [
    "annotation_df.columns = [14,\n",
    " 12,\n",
    " 'Path',\n",
    " 21,\n",
    " 4,\n",
    " 6,\n",
    " 24,\n",
    " 25,\n",
    " 11,\n",
    " 1,\n",
    " 9,\n",
    " 30,\n",
    " 20,\n",
    " 23,\n",
    " 27,\n",
    " 19,\n",
    " 18,\n",
    " 5,\n",
    " 8,\n",
    " 16,\n",
    " 15,\n",
    " 10,\n",
    " 22,\n",
    " 17,\n",
    " 29,\n",
    " 3,\n",
    " 7,\n",
    " 13,\n",
    " 2,\n",
    " 28,\n",
    " 26]"
   ]
  },
  {
   "cell_type": "code",
   "execution_count": 58,
   "metadata": {},
   "outputs": [],
   "source": [
    "annotation_df = annotation_df.set_index(\"Path\")"
   ]
  },
  {
   "cell_type": "code",
   "execution_count": 63,
   "metadata": {},
   "outputs": [],
   "source": [
    "annotation_df = annotation_df[sorted(annotation_df.columns)]"
   ]
  },
  {
   "cell_type": "code",
   "execution_count": 66,
   "metadata": {},
   "outputs": [],
   "source": [
    "annotation_df.to_csv(\"../data/processed/annotations.csv\")"
   ]
  }
 ],
 "metadata": {
  "kernelspec": {
   "display_name": "py38",
   "language": "python",
   "name": "python3"
  },
  "language_info": {
   "codemirror_mode": {
    "name": "ipython",
    "version": 3
   },
   "file_extension": ".py",
   "mimetype": "text/x-python",
   "name": "python",
   "nbconvert_exporter": "python",
   "pygments_lexer": "ipython3",
   "version": "3.8.3"
  },
  "orig_nbformat": 4
 },
 "nbformat": 4,
 "nbformat_minor": 2
}
