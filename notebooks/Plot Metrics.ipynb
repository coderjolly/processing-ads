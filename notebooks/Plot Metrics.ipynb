{
 "cells": [
  {
   "cell_type": "code",
   "execution_count": null,
   "metadata": {},
   "outputs": [],
   "source": [
    "import pickle\n",
    "import matplotlib.pyplot as plt\n",
    "import numpy as np\n",
    "from sklearn.metrics import confusion_matrix, f1_score"
   ]
  },
  {
   "cell_type": "code",
   "execution_count": null,
   "metadata": {},
   "outputs": [],
   "source": [
    "model_name = [\"resnet34\", \"mobile_net_v3_large\", \"efficient_net_b1\"]\n",
    "num_epochs = \"100\"\n",
    "lr_start = \"0.01\"\n",
    "lr_end = \"0.001\"\n",
    "batch_size = \"32\""
   ]
  },
  {
   "cell_type": "code",
   "execution_count": null,
   "metadata": {},
   "outputs": [],
   "source": [
    "model_params = {}"
   ]
  },
  {
   "cell_type": "code",
   "execution_count": null,
   "metadata": {},
   "outputs": [],
   "source": [
    "def get_metrics(models, dataset_name, num_epochs, batch_size,\n",
    "                lr_start, lr_end):\n",
    "    val_acc = {}\n",
    "    val_loss = {}\n",
    "    val_true = {}\n",
    "    val_pred = {}\n",
    "\n",
    "    train_acc = {}\n",
    "    train_loss = {}\n",
    "    train_true = {}\n",
    "    train_pred = {}\n",
    "    \n",
    "    \n",
    "    for model_name in models:\n",
    "        \n",
    "        with open(f'../../models/val_history_{model_name}_{dataset_name}_{num_epochs}_{batch_size}_{lr_start}_{lr_end}_.pickle', 'rb') as handle:\n",
    "            val_history = pickle.load(handle)\n",
    "\n",
    "        with open(f'../../models/train_history_{model_name}_{dataset_name}_{num_epochs}_{batch_size}_{lr_start}_{lr_end}_.pickle', 'rb') as handle:\n",
    "            train_history = pickle.load(handle)\n",
    "        \n",
    "        try:\n",
    "            val_acc[model_name] = [i.item() for i in val_history['acc']]\n",
    "        except:\n",
    "            val_acc[model_name] = val_history['acc']\n",
    "        val_loss[model_name] = val_history['loss']\n",
    "        val_pred[model_name] = val_history['outputs']\n",
    "        val_true[model_name] = val_history['targets']\n",
    "\n",
    "        train_acc[model_name] = train_history['acc']\n",
    "        train_loss[model_name] = train_history['loss']\n",
    "        train_pred[model_name] = train_history['outputs']\n",
    "        train_true[model_name] = train_history['targets']\n",
    "        \n",
    "    \n",
    "    \n",
    "    return {'train_acc': train_acc, 'train_loss': train_loss, 'train_pred': train_pred, 'train_true': train_true,\n",
    "                                 'val_acc': val_acc, 'val_loss': val_loss, 'val_pred': val_pred, 'val_true': val_true}"
   ]
  },
  {
   "cell_type": "code",
   "execution_count": null,
   "metadata": {},
   "outputs": [],
   "source": []
  },
  {
   "cell_type": "code",
   "execution_count": null,
   "metadata": {},
   "outputs": [],
   "source": [
    "dataset_name = \"ads\"\n",
    "model_params[dataset_name] = get_metrics(model_name, dataset_name, num_epochs, batch_size, lr_start, lr_end)\n",
    "model_params[dataset_name]['train_acc'].keys()"
   ]
  },
  {
   "cell_type": "code",
   "execution_count": null,
   "metadata": {},
   "outputs": [],
   "source": []
  },
  {
   "cell_type": "code",
   "execution_count": null,
   "metadata": {},
   "outputs": [],
   "source": [
    "colors_acc = {'chest_xray_8': 'yellowgreen', 'covid_pneumonia': 'lightcoral', 'pneumonia': 'cornflowerblue'}\n",
    "colors_loss = {'chest_xray_8': 'green', 'covid_pneumonia': 'firebrick', 'pneumonia': 'blue'}\n",
    "middle_flag = {'resnet34': False, 'efficient_net_b1': True, 'mobile_net_v3_large': False}\n",
    "start_flag = {'resnet34': True, 'efficient_net_b1': False, 'mobile_net_v3_large': False}\n",
    "end_flag = {'resnet34': False, 'efficient_net_b1': False, 'mobile_net_v3_large': True}\n",
    "\n",
    "model_names = {'resnet34': \"ResNet 34\", \n",
    "               'mobile_net_v3_large': \"MobileNet V3 Large\", \n",
    "               'efficient_net_b1': \"EfficientNet B1\"}\n",
    "dataset_names = {'chest_xray_8': \"Chest X-ray 8\", \n",
    "               'covid_pneumonia': \"COVID + Pneumonia\", \n",
    "               'pneumonia': \"Pneumonia\"}"
   ]
  },
  {
   "cell_type": "code",
   "execution_count": null,
   "metadata": {},
   "outputs": [],
   "source": [
    "\n",
    "model = model_name[0]\n",
    "model_name = [\"resnet34\", \"efficient_net_b1\", \"mobile_net_v3_large\"]"
   ]
  },
  {
   "cell_type": "code",
   "execution_count": null,
   "metadata": {},
   "outputs": [],
   "source": [
    "#fig, ax1 = plt.subplots(1,3, figsize=(12, 5))\n",
    "fig = plt.figure(figsize=(12, 8))\n",
    "gs = fig.add_gridspec(2, 3, hspace=0, wspace=0)\n",
    "ax1, ax2 = gs.subplots(sharex='col', sharey='row')\n",
    "\n",
    "\n",
    "#ax2 = []\n",
    "fig.suptitle(f'Train & Validation Dataset - F1 & Loss Plots', fontsize=16)\n",
    "epochs = [i for i in range(int(num_epochs))]\n",
    "for i in range(3):\n",
    "    model = model_name[i]\n",
    "    ax1[i].set_title(f'{model_names[model]}')\n",
    "    # plt.figure()\n",
    "    if start_flag[model]:\n",
    "        ax1[i].set_ylabel('F1 Score')\n",
    "    if middle_flag[model]:\n",
    "        ax2[i].set_xlabel('Epoch')\n",
    "    \n",
    "    color = 'black'\n",
    "\n",
    "    for data in model_params.keys():\n",
    "        ax1[i].plot(epochs, \n",
    "                 [f1_score(true, pred, average='macro') for true, pred in zip(model_params[data]['val_true'][model], model_params[data]['val_pred'][model])],\n",
    "                 label=f'{dataset_names[data]} - Validation F1', \n",
    "                 color=colors_acc[data])\n",
    "        ax1[i].plot(epochs, \n",
    "                 [f1_score(true, pred, average='macro') for true, pred in zip(model_params[data]['train_true'][model], model_params[data]['train_pred'][model])],\n",
    "                 label=f'{dataset_names[data]} - Training F1', \n",
    "                 color=colors_acc[data], linestyle='--')\n",
    "\n",
    "    ax1[i].tick_params(axis='y', labelcolor=color)   \n",
    "    ax1[i].set_ylim([0, 1.05])\n",
    "\n",
    "    #ax2.append(ax1[i].twinx())\n",
    "    color = 'black'\n",
    "    \n",
    "    if start_flag[model]:\n",
    "        ax2[i].set_ylabel('Loss (Log Scale)', color=color)\n",
    "\n",
    "    for data in model_params.keys():\n",
    "        ax2[i].plot(epochs, \n",
    "                 np.log(model_params[data]['val_loss'][model]),\n",
    "                 label=f'{dataset_names[data]} - Validation Loss', \n",
    "                 color=colors_loss[data])\n",
    "        ax2[i].plot(epochs, \n",
    "                 np.log(model_params[data]['train_loss'][model]),\n",
    "                 label=f'{dataset_names[data]} - Training Loss', \n",
    "                 color=colors_loss[data], linestyle='--')\n",
    "\n",
    "    ax2[i].set_ylim([-10, 2.5])\n",
    "    ax2[i].tick_params(axis='y', labelcolor=color)    \n",
    "    \n",
    "    if middle_flag[model]:\n",
    "        ax1[i].legend(bbox_to_anchor=(1., -2.1, 0.41, 0.94))\n",
    "        ax2[i].legend(bbox_to_anchor=(0., -1.1, 0.41, 0.94))\n",
    "\n",
    "fig.tight_layout()\n",
    "#fig.savefig(\"f1_loss_separate.png\", format=\"png\", dpi=600, bbox_inches=\"tight\")\n",
    "#fig.savefig(\"f1_loss_separate.eps\", format=\"eps\", dpi=1200, bbox_inches=\"tight\", transparent=True)\n",
    "#fig.savefig(\"f1_loss_separate.pdf\", format=\"pdf\", dpi=1200, bbox_inches=\"tight\", transparent=True)\n",
    "\n",
    "#fig.legend(bbox_to_anchor=(0., -1., 0.41, 0.94))"
   ]
  }
 ],
 "metadata": {
  "kernelspec": {
   "display_name": "Python 3.9.13 ('dl')",
   "language": "python",
   "name": "python3"
  },
  "language_info": {
   "name": "python",
   "version": "3.9.13"
  },
  "orig_nbformat": 4,
  "vscode": {
   "interpreter": {
    "hash": "8663be1127523d7121742bbf948a8b1c8dd9a63c15e224e5108ff87b090569d5"
   }
  }
 },
 "nbformat": 4,
 "nbformat_minor": 2
}
