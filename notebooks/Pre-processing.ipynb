{
 "cells": [
  {
   "cell_type": "code",
   "execution_count": 14,
   "metadata": {},
   "outputs": [],
   "source": [
    "import pandas as pd\n",
    "import numpy as np\n",
    "from tqdm import tqdm\n",
    "\n",
    "import shutil\n"
   ]
  },
  {
   "cell_type": "code",
   "execution_count": 4,
   "metadata": {},
   "outputs": [],
   "source": [
    "annotations = pd.read_csv(\"../data/processed/reduced_annotations.csv\")"
   ]
  },
  {
   "cell_type": "code",
   "execution_count": 7,
   "metadata": {},
   "outputs": [],
   "source": [
    "train, val, test = np.split(annotations.sample(frac=1, random_state=9), \n",
    "                            [int(.6*len(annotations)), int(.8*len(annotations))])"
   ]
  },
  {
   "cell_type": "code",
   "execution_count": 8,
   "metadata": {},
   "outputs": [
    {
     "data": {
      "text/plain": [
       "(11135, 21)"
      ]
     },
     "execution_count": 8,
     "metadata": {},
     "output_type": "execute_result"
    }
   ],
   "source": [
    "train.shape"
   ]
  },
  {
   "cell_type": "code",
   "execution_count": 9,
   "metadata": {},
   "outputs": [
    {
     "data": {
      "text/plain": [
       "(3712, 21)"
      ]
     },
     "execution_count": 9,
     "metadata": {},
     "output_type": "execute_result"
    }
   ],
   "source": [
    "val.shape"
   ]
  },
  {
   "cell_type": "code",
   "execution_count": 10,
   "metadata": {},
   "outputs": [
    {
     "data": {
      "text/plain": [
       "(3712, 21)"
      ]
     },
     "execution_count": 10,
     "metadata": {},
     "output_type": "execute_result"
    }
   ],
   "source": [
    "test.shape"
   ]
  },
  {
   "cell_type": "code",
   "execution_count": 16,
   "metadata": {},
   "outputs": [
    {
     "name": "stderr",
     "output_type": "stream",
     "text": [
      "11135it [00:18, 587.18it/s]\n"
     ]
    }
   ],
   "source": [
    "for idx, row in tqdm(train.iterrows()):\n",
    "    shutil.copy2(\"../data/raw/\"+row.Path, f\"../data/processed/images/train/{row.Path.split('/')[-1]}\")"
   ]
  },
  {
   "cell_type": "code",
   "execution_count": 17,
   "metadata": {},
   "outputs": [
    {
     "name": "stderr",
     "output_type": "stream",
     "text": [
      "3712it [00:06, 551.32it/s]\n"
     ]
    }
   ],
   "source": [
    "for idx, row in tqdm(val.iterrows()):\n",
    "    shutil.copy2(\"../data/raw/\"+row.Path, f\"../data/processed/images/val/{row.Path.split('/')[-1]}\")"
   ]
  },
  {
   "cell_type": "code",
   "execution_count": 18,
   "metadata": {},
   "outputs": [
    {
     "name": "stderr",
     "output_type": "stream",
     "text": [
      "3712it [00:06, 554.94it/s]\n"
     ]
    }
   ],
   "source": [
    "for idx, row in tqdm(test.iterrows()):\n",
    "    shutil.copy2(\"../data/raw/\"+row.Path, f\"../data/processed/images/test/{row.Path.split('/')[-1]}\")"
   ]
  },
  {
   "cell_type": "code",
   "execution_count": 21,
   "metadata": {},
   "outputs": [
    {
     "data": {
      "text/plain": [
       "Active         1480\n",
       "Alert           723\n",
       "Amazed           71\n",
       "Amused          216\n",
       "Calm            113\n",
       "Cheerful        278\n",
       "Confident       357\n",
       "Conscious       216\n",
       "Creative       2415\n",
       "Eager          2837\n",
       "Educated        520\n",
       "Emotional        67\n",
       "Fashionable    2402\n",
       "Feminine       1495\n",
       "Inspired        632\n",
       "Loving           60\n",
       "Manly           369\n",
       "Persuaded       221\n",
       "Thrifty         185\n",
       "Youthful        172\n",
       "dtype: int64"
      ]
     },
     "execution_count": 21,
     "metadata": {},
     "output_type": "execute_result"
    }
   ],
   "source": [
    "train.set_index(\"Path\").count()"
   ]
  },
  {
   "cell_type": "code",
   "execution_count": 22,
   "metadata": {},
   "outputs": [
    {
     "data": {
      "text/plain": [
       "Active         513\n",
       "Alert          229\n",
       "Amazed          25\n",
       "Amused          60\n",
       "Calm            44\n",
       "Cheerful        85\n",
       "Confident      119\n",
       "Conscious       71\n",
       "Creative       785\n",
       "Eager          951\n",
       "Educated       157\n",
       "Emotional       21\n",
       "Fashionable    821\n",
       "Feminine       502\n",
       "Inspired       217\n",
       "Loving          21\n",
       "Manly          129\n",
       "Persuaded       88\n",
       "Thrifty         59\n",
       "Youthful        56\n",
       "dtype: int64"
      ]
     },
     "execution_count": 22,
     "metadata": {},
     "output_type": "execute_result"
    }
   ],
   "source": [
    "test.set_index(\"Path\").count()"
   ]
  },
  {
   "cell_type": "code",
   "execution_count": 23,
   "metadata": {},
   "outputs": [
    {
     "data": {
      "text/plain": [
       "Active         496\n",
       "Alert          240\n",
       "Amazed          22\n",
       "Amused          79\n",
       "Calm            43\n",
       "Cheerful        91\n",
       "Confident      110\n",
       "Conscious       76\n",
       "Creative       728\n",
       "Eager          971\n",
       "Educated       190\n",
       "Emotional       22\n",
       "Fashionable    851\n",
       "Feminine       521\n",
       "Inspired       207\n",
       "Loving          29\n",
       "Manly          109\n",
       "Persuaded       70\n",
       "Thrifty         57\n",
       "Youthful        54\n",
       "dtype: int64"
      ]
     },
     "execution_count": 23,
     "metadata": {},
     "output_type": "execute_result"
    }
   ],
   "source": [
    "val.set_index(\"Path\").count()"
   ]
  },
  {
   "cell_type": "code",
   "execution_count": 31,
   "metadata": {},
   "outputs": [],
   "source": [
    "train['Path'] = train.Path.str.split(\"/\").str[1]\n",
    "test['Path'] = test.Path.str.split(\"/\").str[1]\n",
    "val['Path'] = val.Path.str.split(\"/\").str[1]"
   ]
  },
  {
   "cell_type": "code",
   "execution_count": 32,
   "metadata": {},
   "outputs": [],
   "source": [
    "train.to_csv(\"../data/processed/train.csv\", index=False)\n",
    "val.to_csv(\"../data/processed/val.csv\", index=False)\n",
    "test.to_csv(\"../data/processed/test.csv\", index=False)"
   ]
  },
  {
   "cell_type": "code",
   "execution_count": null,
   "metadata": {},
   "outputs": [],
   "source": []
  }
 ],
 "metadata": {
  "kernelspec": {
   "display_name": "Python 3.9.13 ('dl')",
   "language": "python",
   "name": "python3"
  },
  "language_info": {
   "codemirror_mode": {
    "name": "ipython",
    "version": 3
   },
   "file_extension": ".py",
   "mimetype": "text/x-python",
   "name": "python",
   "nbconvert_exporter": "python",
   "pygments_lexer": "ipython3",
   "version": "3.9.13"
  },
  "orig_nbformat": 4,
  "vscode": {
   "interpreter": {
    "hash": "8663be1127523d7121742bbf948a8b1c8dd9a63c15e224e5108ff87b090569d5"
   }
  }
 },
 "nbformat": 4,
 "nbformat_minor": 2
}
